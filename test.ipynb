{
 "cells": [
  {
   "cell_type": "code",
   "execution_count": 16,
   "metadata": {},
   "outputs": [
    {
     "name": "stderr",
     "output_type": "stream",
     "text": [
      "C:\\Users\\Lafkih\\AppData\\Local\\Temp\\ipykernel_17476\\1498354122.py:13: DeprecationWarning: executable_path has been deprecated, please pass in a Service object\n",
      "  driver = webdriver.Chrome(ChromeDriverManager().install())\n"
     ]
    },
    {
     "ename": "NoSuchWindowException",
     "evalue": "Message: no such window: target window already closed\nfrom unknown error: web view not found\n  (Session info: chrome=109.0.5414.120)\nStacktrace:\nBacktrace:\n\t(No symbol) [0x00B96643]\n\t(No symbol) [0x00B2BE21]\n\t(No symbol) [0x00A2DA9D]\n\t(No symbol) [0x00A0EF6A]\n\t(No symbol) [0x00A83AAB]\n\t(No symbol) [0x00A961B6]\n\t(No symbol) [0x00A7FB76]\n\t(No symbol) [0x00A549C1]\n\t(No symbol) [0x00A55E5D]\n\tGetHandleVerifier [0x00E0A142+2497106]\n\tGetHandleVerifier [0x00E385D3+2686691]\n\tGetHandleVerifier [0x00E3BB9C+2700460]\n\tGetHandleVerifier [0x00C43B10+635936]\n\t(No symbol) [0x00B34A1F]\n\t(No symbol) [0x00B3A418]\n\t(No symbol) [0x00B3A505]\n\t(No symbol) [0x00B4508B]\n\tBaseThreadInitThunk [0x770F7D69+25]\n\tRtlInitializeExceptionChain [0x7764BB9B+107]\n\tRtlClearBits [0x7764BB1F+191]\n",
     "output_type": "error",
     "traceback": [
      "\u001b[1;31m---------------------------------------------------------------------------\u001b[0m",
      "\u001b[1;31mNoSuchWindowException\u001b[0m                     Traceback (most recent call last)",
      "Cell \u001b[1;32mIn[16], line 43\u001b[0m\n\u001b[0;32m     41\u001b[0m df \u001b[39m=\u001b[39m pd\u001b[39m.\u001b[39mDataFrame({\u001b[39m'\u001b[39m\u001b[39mdate\u001b[39m\u001b[39m'\u001b[39m: dates, \u001b[39m'\u001b[39m\u001b[39mtitle\u001b[39m\u001b[39m'\u001b[39m: titles, \u001b[39m'\u001b[39m\u001b[39martist\u001b[39m\u001b[39m'\u001b[39m: artists})\n\u001b[0;32m     42\u001b[0m \u001b[39m# reject all cookies\u001b[39;00m\n\u001b[1;32m---> 43\u001b[0m driver\u001b[39m.\u001b[39;49mfind_element(By\u001b[39m.\u001b[39;49mXPATH,\u001b[39m\"\u001b[39;49m\u001b[39m/html/body/div[6]/div[2]/div/div/div[2]/div/div/button[1]\u001b[39;49m\u001b[39m\"\u001b[39;49m)\u001b[39m.\u001b[39mclick()\n\u001b[0;32m     45\u001b[0m \u001b[39m# iterateur200 = list(range(1,220,11))\u001b[39;00m\n\u001b[0;32m     46\u001b[0m \u001b[39m# iterateur200.remove(1)\u001b[39;00m\n\u001b[0;32m     47\u001b[0m \n\u001b[1;32m   (...)\u001b[0m\n\u001b[0;32m     52\u001b[0m \u001b[39m#             list.append(WebElement.text)\u001b[39;00m\n\u001b[0;32m     53\u001b[0m \u001b[39m#     return list\u001b[39;00m\n\u001b[0;32m     55\u001b[0m XpathTitle \u001b[39m=\u001b[39m \u001b[39m\"\u001b[39m\u001b[39m/html/body/div[4]/main/div[2]/div[3]/div/div/div/div[2]/div[\u001b[39m\u001b[39m%d\u001b[39;00m\u001b[39m]/ul/li[4]/ul/li[1]/h3\u001b[39m\u001b[39m\"\u001b[39m\n",
      "File \u001b[1;32mc:\\Users\\Lafkih\\AppData\\Local\\Programs\\Python\\Python311\\Lib\\site-packages\\selenium\\webdriver\\remote\\webdriver.py:830\u001b[0m, in \u001b[0;36mWebDriver.find_element\u001b[1;34m(self, by, value)\u001b[0m\n\u001b[0;32m    827\u001b[0m     by \u001b[39m=\u001b[39m By\u001b[39m.\u001b[39mCSS_SELECTOR\n\u001b[0;32m    828\u001b[0m     value \u001b[39m=\u001b[39m \u001b[39mf\u001b[39m\u001b[39m'\u001b[39m\u001b[39m[name=\u001b[39m\u001b[39m\"\u001b[39m\u001b[39m{\u001b[39;00mvalue\u001b[39m}\u001b[39;00m\u001b[39m\"\u001b[39m\u001b[39m]\u001b[39m\u001b[39m'\u001b[39m\n\u001b[1;32m--> 830\u001b[0m \u001b[39mreturn\u001b[39;00m \u001b[39mself\u001b[39;49m\u001b[39m.\u001b[39;49mexecute(Command\u001b[39m.\u001b[39;49mFIND_ELEMENT, {\u001b[39m\"\u001b[39;49m\u001b[39musing\u001b[39;49m\u001b[39m\"\u001b[39;49m: by, \u001b[39m\"\u001b[39;49m\u001b[39mvalue\u001b[39;49m\u001b[39m\"\u001b[39;49m: value})[\u001b[39m\"\u001b[39m\u001b[39mvalue\u001b[39m\u001b[39m\"\u001b[39m]\n",
      "File \u001b[1;32mc:\\Users\\Lafkih\\AppData\\Local\\Programs\\Python\\Python311\\Lib\\site-packages\\selenium\\webdriver\\remote\\webdriver.py:440\u001b[0m, in \u001b[0;36mWebDriver.execute\u001b[1;34m(self, driver_command, params)\u001b[0m\n\u001b[0;32m    438\u001b[0m response \u001b[39m=\u001b[39m \u001b[39mself\u001b[39m\u001b[39m.\u001b[39mcommand_executor\u001b[39m.\u001b[39mexecute(driver_command, params)\n\u001b[0;32m    439\u001b[0m \u001b[39mif\u001b[39;00m response:\n\u001b[1;32m--> 440\u001b[0m     \u001b[39mself\u001b[39;49m\u001b[39m.\u001b[39;49merror_handler\u001b[39m.\u001b[39;49mcheck_response(response)\n\u001b[0;32m    441\u001b[0m     response[\u001b[39m\"\u001b[39m\u001b[39mvalue\u001b[39m\u001b[39m\"\u001b[39m] \u001b[39m=\u001b[39m \u001b[39mself\u001b[39m\u001b[39m.\u001b[39m_unwrap_value(response\u001b[39m.\u001b[39mget(\u001b[39m\"\u001b[39m\u001b[39mvalue\u001b[39m\u001b[39m\"\u001b[39m, \u001b[39mNone\u001b[39;00m))\n\u001b[0;32m    442\u001b[0m     \u001b[39mreturn\u001b[39;00m response\n",
      "File \u001b[1;32mc:\\Users\\Lafkih\\AppData\\Local\\Programs\\Python\\Python311\\Lib\\site-packages\\selenium\\webdriver\\remote\\errorhandler.py:245\u001b[0m, in \u001b[0;36mErrorHandler.check_response\u001b[1;34m(self, response)\u001b[0m\n\u001b[0;32m    243\u001b[0m         alert_text \u001b[39m=\u001b[39m value[\u001b[39m\"\u001b[39m\u001b[39malert\u001b[39m\u001b[39m\"\u001b[39m]\u001b[39m.\u001b[39mget(\u001b[39m\"\u001b[39m\u001b[39mtext\u001b[39m\u001b[39m\"\u001b[39m)\n\u001b[0;32m    244\u001b[0m     \u001b[39mraise\u001b[39;00m exception_class(message, screen, stacktrace, alert_text)  \u001b[39m# type: ignore[call-arg]  # mypy is not smart enough here\u001b[39;00m\n\u001b[1;32m--> 245\u001b[0m \u001b[39mraise\u001b[39;00m exception_class(message, screen, stacktrace)\n",
      "\u001b[1;31mNoSuchWindowException\u001b[0m: Message: no such window: target window already closed\nfrom unknown error: web view not found\n  (Session info: chrome=109.0.5414.120)\nStacktrace:\nBacktrace:\n\t(No symbol) [0x00B96643]\n\t(No symbol) [0x00B2BE21]\n\t(No symbol) [0x00A2DA9D]\n\t(No symbol) [0x00A0EF6A]\n\t(No symbol) [0x00A83AAB]\n\t(No symbol) [0x00A961B6]\n\t(No symbol) [0x00A7FB76]\n\t(No symbol) [0x00A549C1]\n\t(No symbol) [0x00A55E5D]\n\tGetHandleVerifier [0x00E0A142+2497106]\n\tGetHandleVerifier [0x00E385D3+2686691]\n\tGetHandleVerifier [0x00E3BB9C+2700460]\n\tGetHandleVerifier [0x00C43B10+635936]\n\t(No symbol) [0x00B34A1F]\n\t(No symbol) [0x00B3A418]\n\t(No symbol) [0x00B3A505]\n\t(No symbol) [0x00B4508B]\n\tBaseThreadInitThunk [0x770F7D69+25]\n\tRtlInitializeExceptionChain [0x7764BB9B+107]\n\tRtlClearBits [0x7764BB1F+191]\n"
     ]
    }
   ],
   "source": [
    "from selenium import webdriver\n",
    "from webdriver_manager.chrome import ChromeDriverManager\n",
    "from selenium.webdriver.common.by import By\n",
    "import time \n",
    "import pandas as pd\n",
    "from datetime import datetime, timedelta\n",
    "import requests\n",
    "from bs4 import BeautifulSoup\n",
    "import pandas as pd\n",
    "\n",
    "start = time.time()\n",
    "# Initialize the webdriver\n",
    "driver = webdriver.Chrome(ChromeDriverManager().install())\n",
    "\n",
    "# Navigate to the website\n",
    "driver.get(\"https://www.billboard.com/charts/billboard-200/\")\n",
    "\n",
    "# Wait for the page to load\n",
    "time.sleep(10)\n",
    "\n",
    "# reject all cookies\n",
    "driver.find_element(By.XPATH,\"/html/body/div[6]/div[2]/div/div/div[2]/div/div/button[1]\").click()\n",
    "\n",
    "url_base = \"https://www.billboard.com/charts/billboard-200/\"\n",
    "\n",
    "dates = []\n",
    "titles = []\n",
    "artists = []\n",
    "\n",
    "for i in range(90):\n",
    "    date = pd.to_datetime('today').date() - pd.DateOffset(weeks=i)\n",
    "    url = url_base + str(date)\n",
    "    response = requests.get(url)\n",
    "    soup = BeautifulSoup(response.text, 'html.parser')\n",
    "    \n",
    "    items = soup.find_all(class_='chart-list-item')\n",
    "    for item in items:\n",
    "        dates.append(date)\n",
    "        title = item.find('div', class_='chart-list-item__title').get_text()\n",
    "        titles.append(title)\n",
    "        artist = item.find('div', class_='chart-list-item__artist').get_text()\n",
    "        artists.append(artist)\n",
    "        \n",
    "df = pd.DataFrame({'date': dates, 'title': titles, 'artist': artists})\n",
    "\n",
    "\n",
    "# iterateur200 = list(range(1,220,11))\n",
    "# iterateur200.remove(1)\n",
    "\n",
    "# def scraper(list,xpath,iterateur,nb_max):\n",
    "#     for i in range(2,nb_max):\n",
    "#         if i not in iterateur : \n",
    "#             WebElement = driver.find_element(By.XPATH,xpath%(i))\n",
    "#             list.append(WebElement.text)\n",
    "#     return list\n",
    "\n",
    "XpathTitle = \"/html/body/div[4]/main/div[2]/div[3]/div/div/div/div[2]/div[%d]/ul/li[4]/ul/li[1]/h3\"\n",
    "XpathArtist = \"/html/body/div[4]/main/div[2]/div[3]/div/div/div/div[2]/div[%d]/ul/li[4]/ul/li[1]/span\"\n",
    "XpathRank = \"/html/body/div[4]/main/div[2]/div[3]/div/div/div/div[2]/div[%d]/ul/li[1]/span \"\n",
    "XpathLastWeek = \"/html/body/div[4]/main/div[2]/div[3]/div/div/div/div[2]/div[%d]/ul/li[4]/ul/li[4]/span\"\n",
    "XpathPeakPosition = \"/html/body/div[4]/main/div[2]/div[3]/div/div/div/div[2]/div[%d]/ul/li[4]/ul/li[5]/span\"\n",
    "XpathWeeksOnChart = \"/html/body/div[4]/main/div[2]/div[3]/div/div/div/div[2]/div[%d]/ul/li[4]/ul/li[6]/span\"\n",
    "\n",
    "# allXpath = [XpathTitle,XpathArtist,XpathRank,XpathLastWeek,XpathPeakPosition,XpathWeeksOnChart]\n",
    "\n",
    "# title,artist,rank,last_week,peak_pos,weeks_on_chart = [],[],[],[],[],[]\n",
    "\n",
    "# allList = [title,artist,rank,last_week,peak_pos,weeks_on_chart]\n",
    "# i = [scraper(i,j,iterateur200,221) for i, j in zip(allList, allXpath)]\n",
    "\n",
    "# # List to store all the data\n",
    "# all_data = []\n",
    "\n",
    "# # Get the current date\n",
    "# current_date = datetime.now()\n",
    "\n",
    "# # Loop for 3 months\n",
    "# for i in range(3):\n",
    "#     # Get the date for each week\n",
    "#     week_date = current_date - timedelta(weeks=i)\n",
    "    \n",
    "#     # Format the date for the URL\n",
    "#     url_date = week_date.strftime(\"%Y-%m-%d\")\n",
    "    \n",
    "#     # Create the URL\n",
    "#     url = f\"https://www.billboard.com/charts/billboard-200/{url_date}\"\n",
    "    \n",
    "#     # Load the website\n",
    "#     driver.get(url)\n",
    "    \n",
    "#     # Wait for the page to load\n",
    "#     time.sleep(10)\n",
    "    \n",
    "#     # Call the scraper function to get the data for this week\n",
    "#     week_data = [scraper(i,j,iterateur200,221) for i, j in zip(allList,allXpath)]\n",
    "    \n",
    "#     # Add the data for this week to the all_data list\n",
    "#     all_data.append(week_data)\n",
    "\n",
    "# # Create the final DataFrame from all the data\n",
    "# df = pd.DataFrame(all_data)\n",
    "print(df)"
   ]
  },
  {
   "cell_type": "code",
   "execution_count": 9,
   "metadata": {},
   "outputs": [],
   "source": []
  },
  {
   "cell_type": "code",
   "execution_count": null,
   "metadata": {},
   "outputs": [],
   "source": []
  },
  {
   "cell_type": "code",
   "execution_count": null,
   "metadata": {},
   "outputs": [],
   "source": [
    "# for i, j in zip(allList, allXpath):\n",
    "#     i = scraper(i,j,iterateur200,221)"
   ]
  }
 ],
 "metadata": {
  "kernelspec": {
   "display_name": "Python 3",
   "language": "python",
   "name": "python3"
  },
  "language_info": {
   "codemirror_mode": {
    "name": "ipython",
    "version": 3
   },
   "file_extension": ".py",
   "mimetype": "text/x-python",
   "name": "python",
   "nbconvert_exporter": "python",
   "pygments_lexer": "ipython3",
   "version": "3.11.0"
  },
  "orig_nbformat": 4,
  "vscode": {
   "interpreter": {
    "hash": "754136b579986060140cd1615921cc9e44c5943e267a25ae55fe11c0bcbd6dcf"
   }
  }
 },
 "nbformat": 4,
 "nbformat_minor": 2
}
