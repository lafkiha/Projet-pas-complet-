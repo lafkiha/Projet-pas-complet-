{
 "cells": [
  {
   "cell_type": "code",
   "execution_count": 1,
   "metadata": {},
   "outputs": [
    {
     "name": "stderr",
     "output_type": "stream",
     "text": [
      "C:\\Users\\camil\\AppData\\Local\\Temp\\ipykernel_33716\\66893964.py:14: DeprecationWarning: executable_path has been deprecated, please pass in a Service object\n",
      "  driver = webdriver.Chrome(ChromeDriverManager().install())\n"
     ]
    }
   ],
   "source": [
    "from selenium import webdriver\n",
    "from webdriver_manager.chrome import ChromeDriverManager\n",
    "from selenium.webdriver.chrome.service import Service\n",
    "from bs4 import BeautifulSoup\n",
    "from selenium.webdriver.common.by import By\n",
    "import time \n",
    "import pandas as pd\n",
    "\n",
    "# Initialize the webdriver\n",
    "# de manière basique\n",
    "# driver = webdriver.Chrome()\n",
    "\n",
    "# avec ChromeDriverManager mieux car update du driver automatiquement\n",
    "driver = webdriver.Chrome(ChromeDriverManager().install())\n",
    "\n",
    "# si on a télécharger le driver directement dans le dossier \n",
    "# service = Service(executable_path=\"./chromedriver.exe\")\n",
    "# driver = webdriver.Chrome(service=service)"
   ]
  },
  {
   "cell_type": "code",
   "execution_count": 2,
   "metadata": {},
   "outputs": [],
   "source": [
    "# Navigate to the website\n",
    "driver.get(\"https://www.billboard.com/charts/hot-100/\")\n",
    "# driver.get(\"https://www.billboard.com/charts/billboard-global-200/\")\n",
    "\n",
    "# Wait for the page to load\n",
    "driver.implicitly_wait(10)"
   ]
  },
  {
   "cell_type": "code",
   "execution_count": 3,
   "metadata": {},
   "outputs": [],
   "source": [
    "# reject all cookies\n",
    "driver.find_element(By.XPATH,\"/html/body/div[6]/div[2]/div/div/div[2]/div/div/button[1]\").click()"
   ]
  },
  {
   "cell_type": "code",
   "execution_count": 6,
   "metadata": {},
   "outputs": [
    {
     "name": "stdout",
     "output_type": "stream",
     "text": [
      "1\n"
     ]
    },
    {
     "ename": "ElementClickInterceptedException",
     "evalue": "Message: element click intercepted: Element <div class=\"lrv-u-position-relative a-show-on-hover-parent a-chart-datepicker-opener\">...</div> is not clickable at point (382, 324). Other element would receive the click: <div class=\"a-chart-datepicker-bg\"></div>\n  (Session info: chrome=109.0.5414.120)\nStacktrace:\nBacktrace:\n\t(No symbol) [0x011C6643]\n\t(No symbol) [0x0115BE21]\n\t(No symbol) [0x0105DA9D]\n\t(No symbol) [0x010992B2]\n\t(No symbol) [0x01096970]\n\t(No symbol) [0x01093E0B]\n\t(No symbol) [0x01092548]\n\t(No symbol) [0x01086B13]\n\t(No symbol) [0x010AFD7C]\n\t(No symbol) [0x0108641F]\n\t(No symbol) [0x010B00D4]\n\t(No symbol) [0x010C6B09]\n\t(No symbol) [0x010AFB76]\n\t(No symbol) [0x010849C1]\n\t(No symbol) [0x01085E5D]\n\tGetHandleVerifier [0x0143A142+2497106]\n\tGetHandleVerifier [0x014685D3+2686691]\n\tGetHandleVerifier [0x0146BB9C+2700460]\n\tGetHandleVerifier [0x01273B10+635936]\n\t(No symbol) [0x01164A1F]\n\t(No symbol) [0x0116A418]\n\t(No symbol) [0x0116A505]\n\t(No symbol) [0x0117508B]\n\tBaseThreadInitThunk [0x756B00F9+25]\n\tRtlGetAppContainerNamedObjectPath [0x77627BBE+286]\n\tRtlGetAppContainerNamedObjectPath [0x77627B8E+238]\n",
     "output_type": "error",
     "traceback": [
      "\u001b[1;31m---------------------------------------------------------------------------\u001b[0m",
      "\u001b[1;31mElementClickInterceptedException\u001b[0m          Traceback (most recent call last)",
      "\u001b[1;32mc:\\Users\\camil\\Desktop\\E4\\Billboard-Genius\\test_navigation.ipynb Cell 4\u001b[0m in \u001b[0;36m<module>\u001b[1;34m\u001b[0m\n\u001b[0;32m      <a href='vscode-notebook-cell:/c%3A/Users/camil/Desktop/E4/Billboard-Genius/test_navigation.ipynb#W3sZmlsZQ%3D%3D?line=1'>2</a>\u001b[0m driver\u001b[39m.\u001b[39mimplicitly_wait(\u001b[39m2\u001b[39m)\n\u001b[0;32m      <a href='vscode-notebook-cell:/c%3A/Users/camil/Desktop/E4/Billboard-Genius/test_navigation.ipynb#W3sZmlsZQ%3D%3D?line=2'>3</a>\u001b[0m \u001b[39mprint\u001b[39m(i)\n\u001b[1;32m----> <a href='vscode-notebook-cell:/c%3A/Users/camil/Desktop/E4/Billboard-Genius/test_navigation.ipynb#W3sZmlsZQ%3D%3D?line=3'>4</a>\u001b[0m calendar \u001b[39m=\u001b[39m driver\u001b[39m.\u001b[39;49mfind_element(By\u001b[39m.\u001b[39;49mXPATH,\u001b[39m\"\u001b[39;49m\u001b[39m/html/body/div[4]/main/div[2]/div[1]/div/div/div[2]/div[2]/div[2]\u001b[39;49m\u001b[39m\"\u001b[39;49m)\u001b[39m.\u001b[39;49mclick()\n\u001b[0;32m      <a href='vscode-notebook-cell:/c%3A/Users/camil/Desktop/E4/Billboard-Genius/test_navigation.ipynb#W3sZmlsZQ%3D%3D?line=4'>5</a>\u001b[0m week_i \u001b[39m=\u001b[39m driver\u001b[39m.\u001b[39mfind_element(By\u001b[39m.\u001b[39mXPATH,\u001b[39m\"\u001b[39m\u001b[39m/html/body/div[4]/main/div[2]/div[1]/div/div/div[2]/div[2]/div[2]/div/div/div/div[2]/table/tbody/tr[\u001b[39m\u001b[39m%d\u001b[39;00m\u001b[39m]/td[1]/span\u001b[39m\u001b[39m\"\u001b[39m\u001b[39m%\u001b[39m(i))\u001b[39m.\u001b[39mclick()\n\u001b[0;32m      <a href='vscode-notebook-cell:/c%3A/Users/camil/Desktop/E4/Billboard-Genius/test_navigation.ipynb#W3sZmlsZQ%3D%3D?line=5'>6</a>\u001b[0m date \u001b[39m=\u001b[39m driver\u001b[39m.\u001b[39mfind_element(By\u001b[39m.\u001b[39mXPATH,\u001b[39m\"\u001b[39m\u001b[39m/html/body/div[4]/main/div[2]/div[1]/div/div/div[2]/div[2]/div[2]/div/div/h2\u001b[39m\u001b[39m\"\u001b[39m)\u001b[39m.\u001b[39mtext\n",
      "File \u001b[1;32mc:\\Users\\camil\\AppData\\Local\\Programs\\Python\\Python310\\lib\\site-packages\\selenium\\webdriver\\remote\\webelement.py:93\u001b[0m, in \u001b[0;36mWebElement.click\u001b[1;34m(self)\u001b[0m\n\u001b[0;32m     91\u001b[0m \u001b[39mdef\u001b[39;00m \u001b[39mclick\u001b[39m(\u001b[39mself\u001b[39m) \u001b[39m-\u001b[39m\u001b[39m>\u001b[39m \u001b[39mNone\u001b[39;00m:\n\u001b[0;32m     92\u001b[0m     \u001b[39m\"\"\"Clicks the element.\"\"\"\u001b[39;00m\n\u001b[1;32m---> 93\u001b[0m     \u001b[39mself\u001b[39;49m\u001b[39m.\u001b[39;49m_execute(Command\u001b[39m.\u001b[39;49mCLICK_ELEMENT)\n",
      "File \u001b[1;32mc:\\Users\\camil\\AppData\\Local\\Programs\\Python\\Python310\\lib\\site-packages\\selenium\\webdriver\\remote\\webelement.py:410\u001b[0m, in \u001b[0;36mWebElement._execute\u001b[1;34m(self, command, params)\u001b[0m\n\u001b[0;32m    408\u001b[0m     params \u001b[39m=\u001b[39m {}\n\u001b[0;32m    409\u001b[0m params[\u001b[39m\"\u001b[39m\u001b[39mid\u001b[39m\u001b[39m\"\u001b[39m] \u001b[39m=\u001b[39m \u001b[39mself\u001b[39m\u001b[39m.\u001b[39m_id\n\u001b[1;32m--> 410\u001b[0m \u001b[39mreturn\u001b[39;00m \u001b[39mself\u001b[39;49m\u001b[39m.\u001b[39;49m_parent\u001b[39m.\u001b[39;49mexecute(command, params)\n",
      "File \u001b[1;32mc:\\Users\\camil\\AppData\\Local\\Programs\\Python\\Python310\\lib\\site-packages\\selenium\\webdriver\\remote\\webdriver.py:444\u001b[0m, in \u001b[0;36mWebDriver.execute\u001b[1;34m(self, driver_command, params)\u001b[0m\n\u001b[0;32m    442\u001b[0m response \u001b[39m=\u001b[39m \u001b[39mself\u001b[39m\u001b[39m.\u001b[39mcommand_executor\u001b[39m.\u001b[39mexecute(driver_command, params)\n\u001b[0;32m    443\u001b[0m \u001b[39mif\u001b[39;00m response:\n\u001b[1;32m--> 444\u001b[0m     \u001b[39mself\u001b[39;49m\u001b[39m.\u001b[39;49merror_handler\u001b[39m.\u001b[39;49mcheck_response(response)\n\u001b[0;32m    445\u001b[0m     response[\u001b[39m\"\u001b[39m\u001b[39mvalue\u001b[39m\u001b[39m\"\u001b[39m] \u001b[39m=\u001b[39m \u001b[39mself\u001b[39m\u001b[39m.\u001b[39m_unwrap_value(response\u001b[39m.\u001b[39mget(\u001b[39m\"\u001b[39m\u001b[39mvalue\u001b[39m\u001b[39m\"\u001b[39m, \u001b[39mNone\u001b[39;00m))\n\u001b[0;32m    446\u001b[0m     \u001b[39mreturn\u001b[39;00m response\n",
      "File \u001b[1;32mc:\\Users\\camil\\AppData\\Local\\Programs\\Python\\Python310\\lib\\site-packages\\selenium\\webdriver\\remote\\errorhandler.py:249\u001b[0m, in \u001b[0;36mErrorHandler.check_response\u001b[1;34m(self, response)\u001b[0m\n\u001b[0;32m    247\u001b[0m         alert_text \u001b[39m=\u001b[39m value[\u001b[39m\"\u001b[39m\u001b[39malert\u001b[39m\u001b[39m\"\u001b[39m]\u001b[39m.\u001b[39mget(\u001b[39m\"\u001b[39m\u001b[39mtext\u001b[39m\u001b[39m\"\u001b[39m)\n\u001b[0;32m    248\u001b[0m     \u001b[39mraise\u001b[39;00m exception_class(message, screen, stacktrace, alert_text)  \u001b[39m# type: ignore[call-arg]  # mypy is not smart enough here\u001b[39;00m\n\u001b[1;32m--> 249\u001b[0m \u001b[39mraise\u001b[39;00m exception_class(message, screen, stacktrace)\n",
      "\u001b[1;31mElementClickInterceptedException\u001b[0m: Message: element click intercepted: Element <div class=\"lrv-u-position-relative a-show-on-hover-parent a-chart-datepicker-opener\">...</div> is not clickable at point (382, 324). Other element would receive the click: <div class=\"a-chart-datepicker-bg\"></div>\n  (Session info: chrome=109.0.5414.120)\nStacktrace:\nBacktrace:\n\t(No symbol) [0x011C6643]\n\t(No symbol) [0x0115BE21]\n\t(No symbol) [0x0105DA9D]\n\t(No symbol) [0x010992B2]\n\t(No symbol) [0x01096970]\n\t(No symbol) [0x01093E0B]\n\t(No symbol) [0x01092548]\n\t(No symbol) [0x01086B13]\n\t(No symbol) [0x010AFD7C]\n\t(No symbol) [0x0108641F]\n\t(No symbol) [0x010B00D4]\n\t(No symbol) [0x010C6B09]\n\t(No symbol) [0x010AFB76]\n\t(No symbol) [0x010849C1]\n\t(No symbol) [0x01085E5D]\n\tGetHandleVerifier [0x0143A142+2497106]\n\tGetHandleVerifier [0x014685D3+2686691]\n\tGetHandleVerifier [0x0146BB9C+2700460]\n\tGetHandleVerifier [0x01273B10+635936]\n\t(No symbol) [0x01164A1F]\n\t(No symbol) [0x0116A418]\n\t(No symbol) [0x0116A505]\n\t(No symbol) [0x0117508B]\n\tBaseThreadInitThunk [0x756B00F9+25]\n\tRtlGetAppContainerNamedObjectPath [0x77627BBE+286]\n\tRtlGetAppContainerNamedObjectPath [0x77627B8E+238]\n"
     ]
    }
   ],
   "source": [
    "for i in range(1,6): \n",
    "    driver.implicitly_wait(2)\n",
    "    calendar = driver.find_element(By.XPATH,\"/html/body/div[4]/main/div[2]/div[1]/div/div/div[2]/div[2]/div[2]\").click()\n",
    "    week_i = driver.find_element(By.XPATH,\"/html/body/div[4]/main/div[2]/div[1]/div/div/div[2]/div[2]/div[2]/div/div/div/div[2]/table/tbody/tr[%d]/td[1]/span\"%(i)).click()\n",
    "    date = driver.find_element(By.XPATH,\"/html/body/div[4]/main/div[2]/div[1]/div/div/div[2]/div[2]/div[2]/div/div/h2\").text"
   ]
  },
  {
   "cell_type": "code",
   "execution_count": 12,
   "metadata": {},
   "outputs": [
    {
     "data": {
      "text/plain": [
       "''"
      ]
     },
     "execution_count": 12,
     "metadata": {},
     "output_type": "execute_result"
    }
   ],
   "source": [
    "calendar = driver.find_element(By.XPATH,\"/html/body/div[4]/main/div[2]/div[1]/div/div/div[2]/div[2]/div[2]\").click()\n",
    "driver.find_element(By.XPATH,\"/html/body/div[4]/main/div[2]/div[1]/div/div/div[2]/div[2]/div[2]/div/div/div/div[2]/table/tbody/tr[1]/td[1]/span\").click()\n",
    "date = driver.find_element(By.XPATH,\"/html/body/div[4]/main/div[2]/div[1]/div/div/div[2]/div[2]/div[2]/div/div/h2\").text\n",
    "date"
   ]
  },
  {
   "cell_type": "code",
   "execution_count": null,
   "metadata": {},
   "outputs": [],
   "source": [
    "calendar = driver.find_element(By.XPATH,\"/html/body/div[4]/main/div[2]/div[1]/div/div/div[2]/div[2]/div[2]\").click()\n",
    "previous_month = driver.find_element(By.XPATH,\"/html/body/div[4]/main/div[2]/div[1]/div/div/div[2]/div[2]/div[2]/div/div/div/div[1]/div[2]/button[1]\").click()"
   ]
  },
  {
   "cell_type": "code",
   "execution_count": null,
   "metadata": {},
   "outputs": [],
   "source": [
    "# /html/body/div[4]/main/div[2]/div[1]/div/div/div[2]/div[2]/div[2]/div/div/div/div[2]/table/tbody/tr[4]/td[1] # s3\n",
    "# /html/body/div[4]/main/div[2]/div[1]/div/div/div[2]/div[2]/div[2]/div/div/div/div[2]/table/tbody/tr[3]/td[1] # s2\n",
    "# /html/body/div[4]/main/div[2]/div[1]/div/div/div[2]/div[2]/div[2]/div/div/div/div[2]/table/tbody/tr[2]/td[1] # xpath S1\n",
    "# /html/body/div[4]/main/div[2]/div[1]/div/div/div[2]/div[2]/div[2]/div/div/div/div[2]/table/tbody/tr[5]/td[1] # s4 actuellement \n",
    "# /html/body/div[4]/main/div[2]/div[1]/div/div/div[2]/div[2]/div[2]/div/div/div/div[2]/table/tbody/tr[1]/td[1]/span\n",
    "# /html/body/div[4]/main/div[2]/div[1]/div/div/div[2]/div[2]/div[2]/div/div/div/div[2]/table/tbody/tr[4]/td[1]/span\n",
    "# /html/body/div[4]/main/div[2]/div[1]/div/div/div[2]/div[2]/div[2]/div/div/div/div[2]/table/tbody/tr[%d]/td[1]"
   ]
  },
  {
   "cell_type": "code",
   "execution_count": null,
   "metadata": {},
   "outputs": [],
   "source": [
    "/html/body/div[4]/main/div[2]/div[1]/div/div/div[2]/div[2]/div[2]/div/div/h2\n",
    "/html/body/div[4]/main/div[2]/div[1]/div/div/div[2]/div[2]/div[2]/div/div/h2\n",
    "/html/body/div[4]/main/div[2]/div[1]/div/div/div[2]/div[2]/div[2]/div/div/h2"
   ]
  }
 ],
 "metadata": {
  "kernelspec": {
   "display_name": "Python 3",
   "language": "python",
   "name": "python3"
  },
  "language_info": {
   "codemirror_mode": {
    "name": "ipython",
    "version": 3
   },
   "file_extension": ".py",
   "mimetype": "text/x-python",
   "name": "python",
   "nbconvert_exporter": "python",
   "pygments_lexer": "ipython3",
   "version": "3.11.0"
  },
  "orig_nbformat": 4,
  "vscode": {
   "interpreter": {
    "hash": "754136b579986060140cd1615921cc9e44c5943e267a25ae55fe11c0bcbd6dcf"
   }
  }
 },
 "nbformat": 4,
 "nbformat_minor": 2
}
